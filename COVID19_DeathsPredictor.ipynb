{
  "nbformat": 4,
  "nbformat_minor": 0,
  "metadata": {
    "colab": {
      "name": "COVID19-DeathsPredictor.ipynb",
      "provenance": [],
      "collapsed_sections": [],
      "include_colab_link": true
    },
    "kernelspec": {
      "name": "python3",
      "display_name": "Python 3"
    },
    "accelerator": "GPU"
  },
  "cells": [
    {
      "cell_type": "markdown",
      "metadata": {
        "id": "view-in-github",
        "colab_type": "text"
      },
      "source": [
        "<a href=\"https://colab.research.google.com/github/anaiy2004/COVID-19-Forecasting/blob/main/COVID19_DeathsPredictor.ipynb\" target=\"_parent\"><img src=\"https://colab.research.google.com/assets/colab-badge.svg\" alt=\"Open In Colab\"/></a>"
      ]
    },
    {
      "cell_type": "code",
      "metadata": {
        "id": "YueyapyFs50k"
      },
      "source": [
        "import csv\n",
        "import keras\n",
        "import pandas\n",
        "from keras.models import Model\n",
        "from keras.layers import Dense, Dropout, LSTM, Input, Activation, concatenate, BatchNormalization, Conv1D, Conv2D, Flatten, MaxPooling1D\n",
        "from keras import optimizers\n",
        "import numpy as np\n",
        "import tensorflow as tf\n",
        "import math\n",
        "from keras.callbacks import EarlyStopping, ModelCheckpoint\n",
        "url = 'https://raw.githubusercontent.com/nytimes/covid-19-data/master/us.csv'\n",
        "df = pandas.read_csv(url)\n",
        "inputs = df['cases'].to_numpy()             \n",
        "outputs = df['deaths'].to_numpy()\n",
        "days = []\n",
        "count = 0\n",
        "for elements in inputs:\n",
        "  count += 1\n",
        "  days.append(count)\n",
        "df['days'] = days"
      ],
      "execution_count": 28,
      "outputs": []
    },
    {
      "cell_type": "code",
      "metadata": {
        "id": "64wCXntFhz83",
        "outputId": "0e46c638-4d1e-4bd7-b0f5-33766b7d7531",
        "colab": {
          "base_uri": "https://localhost:8080/",
          "height": 204
        }
      },
      "source": [
        "df.head()"
      ],
      "execution_count": 29,
      "outputs": [
        {
          "output_type": "execute_result",
          "data": {
            "text/html": [
              "<div>\n",
              "<style scoped>\n",
              "    .dataframe tbody tr th:only-of-type {\n",
              "        vertical-align: middle;\n",
              "    }\n",
              "\n",
              "    .dataframe tbody tr th {\n",
              "        vertical-align: top;\n",
              "    }\n",
              "\n",
              "    .dataframe thead th {\n",
              "        text-align: right;\n",
              "    }\n",
              "</style>\n",
              "<table border=\"1\" class=\"dataframe\">\n",
              "  <thead>\n",
              "    <tr style=\"text-align: right;\">\n",
              "      <th></th>\n",
              "      <th>date</th>\n",
              "      <th>cases</th>\n",
              "      <th>deaths</th>\n",
              "      <th>days</th>\n",
              "    </tr>\n",
              "  </thead>\n",
              "  <tbody>\n",
              "    <tr>\n",
              "      <th>0</th>\n",
              "      <td>2020-01-21</td>\n",
              "      <td>1</td>\n",
              "      <td>0</td>\n",
              "      <td>1</td>\n",
              "    </tr>\n",
              "    <tr>\n",
              "      <th>1</th>\n",
              "      <td>2020-01-22</td>\n",
              "      <td>1</td>\n",
              "      <td>0</td>\n",
              "      <td>2</td>\n",
              "    </tr>\n",
              "    <tr>\n",
              "      <th>2</th>\n",
              "      <td>2020-01-23</td>\n",
              "      <td>1</td>\n",
              "      <td>0</td>\n",
              "      <td>3</td>\n",
              "    </tr>\n",
              "    <tr>\n",
              "      <th>3</th>\n",
              "      <td>2020-01-24</td>\n",
              "      <td>2</td>\n",
              "      <td>0</td>\n",
              "      <td>4</td>\n",
              "    </tr>\n",
              "    <tr>\n",
              "      <th>4</th>\n",
              "      <td>2020-01-25</td>\n",
              "      <td>3</td>\n",
              "      <td>0</td>\n",
              "      <td>5</td>\n",
              "    </tr>\n",
              "  </tbody>\n",
              "</table>\n",
              "</div>"
            ],
            "text/plain": [
              "         date  cases  deaths  days\n",
              "0  2020-01-21      1       0     1\n",
              "1  2020-01-22      1       0     2\n",
              "2  2020-01-23      1       0     3\n",
              "3  2020-01-24      2       0     4\n",
              "4  2020-01-25      3       0     5"
            ]
          },
          "metadata": {
            "tags": []
          },
          "execution_count": 29
        }
      ]
    },
    {
      "cell_type": "code",
      "metadata": {
        "id": "Jw0PUC21YXdA",
        "outputId": "45fb6fbb-55a7-40cc-8b95-676e59dfb430",
        "colab": {
          "base_uri": "https://localhost:8080/",
          "height": 290
        }
      },
      "source": [
        "from matplotlib import pyplot as plt\n",
        "plt.plot(inputs)\n",
        "plt.ylabel('deaths')\n",
        "plt.xlabel('time')\n",
        "plt.show()"
      ],
      "execution_count": 30,
      "outputs": [
        {
          "output_type": "display_data",
          "data": {
            "image/png": "[encoded data removed]",
            "text/plain": [
              "<Figure size 432x288 with 1 Axes>"
            ]
          },
          "metadata": {
            "tags": [],
            "needs_background": "light"
          }
        }
      ]
    },
    {
      "cell_type": "code",
      "metadata": {
        "id": "ryTSOPgmsWef"
      },
      "source": [
        "past = 5 \n",
        "s = (len(inputs) , past  * 2)\n",
        "betterinputs = np.zeros(s)\n",
        "betteroutputs = np.zeros(len(inputs))\n",
        "\n",
        "for i in range(len(inputs) - past ): #\n",
        "  temp = np.zeros(past * 2)\n",
        "  temp[0 : past] = inputs[i : i+ past]\n",
        "  temp[past:] = outputs[i : i + past] \n",
        "  betterinputs[i] = temp\n",
        "  betteroutputs[i] = outputs[i+past] #"
      ],
      "execution_count": 31,
      "outputs": []
    },
    {
      "cell_type": "code",
      "metadata": {
        "id": "B9AeJU4_-8E-"
      },
      "source": [
        "\n",
        "betterinputs = betterinputs[0:len(df)-past]  #\n",
        "betteroutputs = betteroutputs[0:len(df)-past] #\n",
        "days = days[0:len(df) - past]"
      ],
      "execution_count": 32,
      "outputs": []
    },
    {
      "cell_type": "code",
      "metadata": {
        "id": "UJ6GRiNXupub"
      },
      "source": [
        ""
      ],
      "execution_count": 32,
      "outputs": []
    },
    {
      "cell_type": "code",
      "metadata": {
        "id": "3VDXyY4VDo1P",
        "outputId": "4596c595-4acb-4a4d-ba7e-726489a8c21d",
        "colab": {
          "base_uri": "https://localhost:8080/",
          "height": 333
        }
      },
      "source": [
        "#Creating a benchmark\n",
        "benchmark = []\n",
        "for i in range(1, len(betteroutputs)):\n",
        "   benchmark.append(betteroutputs[i])\n",
        "sum = 0\n",
        "for i in range(len(betteroutputs) - 1):\n",
        "  sum += abs(float(betteroutputs[i]) - float(benchmark[i]))\n",
        "print(sum / float(len(benchmark)))\n",
        "\n",
        "plt.semilogy(benchmark, label = \"benchmark\")\n",
        "plt.semilogy(betteroutputs , label = \"betteroutputs\")\n",
        "plt.semilogx(inputs, label = \"cases\")\n",
        "plt.title('model accuracy')\n",
        "plt.ylabel('deaths')\n",
        "plt.xlabel('cases')\n",
        "plt.legend()\n"
      ],
      "execution_count": 33,
      "outputs": [
        {
          "output_type": "stream",
          "text": [
            "826.7471264367816\n"
          ],
          "name": "stdout"
        },
        {
          "output_type": "execute_result",
          "data": {
            "text/plain": [
              "<matplotlib.legend.Legend at 0x7f26d73c65c0>"
            ]
          },
          "metadata": {
            "tags": []
          },
          "execution_count": 33
        },
        {
          "output_type": "display_data",
          "data": {
            "image/png": "[encoded data removed]",
            "text/plain": [
              "<Figure size 432x288 with 1 Axes>"
            ]
          },
          "metadata": {
            "tags": [],
            "needs_background": "light"
          }
        }
      ]
    },
    {
      "cell_type": "code",
      "metadata": {
        "id": "QwP8D9gOFx5A"
      },
      "source": [
        "split = int(0.8*len(betterinputs))\n",
        "X_train, X_test, y_train, y_test = betterinputs[:split], betterinputs[split:], betteroutputs[:split], betteroutputs[split:]\n",
        "days = days[split:]\n",
        "X_train = np.expand_dims(X_train, axis=2)  \n",
        "X_test = np.expand_dims(X_test, axis=2) \n",
        "\n"
      ],
      "execution_count": 34,
      "outputs": []
    },
    {
      "cell_type": "code",
      "metadata": {
        "id": "D0IHXaR5ztr8",
        "outputId": "3506fecc-ab7a-45e9-9a51-ad0c7910c2d9",
        "colab": {
          "base_uri": "https://localhost:8080/",
          "height": 34
        }
      },
      "source": [
        "from sklearn.linear_model import RidgeCV\n",
        "model = RidgeCV(cv=2)\n",
        "X_train, X_test, y_train, y_test = betterinputs[:split], betterinputs[split:], betteroutputs[:split], betteroutputs[split:]\n",
        "model.fit(X_train, y_train)\n",
        "print(\"{}\".format(np.linalg.norm(model.predict(X_test) - y_test, 1)/len(y_test)))"
      ],
      "execution_count": 35,
      "outputs": [
        {
          "output_type": "stream",
          "text": [
            "307.7871556600604\n"
          ],
          "name": "stdout"
        }
      ]
    },
    {
      "cell_type": "code",
      "metadata": {
        "id": "a7TJuDEQ1Ekd",
        "outputId": "bc9cee0f-2094-46b7-f149-294cb523a5d1",
        "colab": {
          "base_uri": "https://localhost:8080/",
          "height": 54
        }
      },
      "source": [
        "print(days)\n"
      ],
      "execution_count": 36,
      "outputs": [
        {
          "output_type": "stream",
          "text": [
            "[210, 211, 212, 213, 214, 215, 216, 217, 218, 219, 220, 221, 222, 223, 224, 225, 226, 227, 228, 229, 230, 231, 232, 233, 234, 235, 236, 237, 238, 239, 240, 241, 242, 243, 244, 245, 246, 247, 248, 249, 250, 251, 252, 253, 254, 255, 256, 257, 258, 259, 260, 261, 262]\n"
          ],
          "name": "stdout"
        }
      ]
    },
    {
      "cell_type": "code",
      "metadata": {
        "id": "ZRy9LqStXN6q",
        "outputId": "1b51bcb0-c339-4ef9-aa20-fa904111377d",
        "colab": {
          "base_uri": "https://localhost:8080/",
          "height": 312
        }
      },
      "source": [
        "predict = model.predict(X_test)\n",
        "plt.title(\"Model Predictions vs Real Values for Deaths Predictions\")\n",
        "plt.plot( days, predict, label = \"model predicitons\")\n",
        "plt.plot( days, y_test,  label = \"real values\")\n",
        "plt.xlabel(\"Days after First United States Coronavirus Case\")\n",
        "plt.ylabel(\"National Coronavirus Deaths\")\n",
        "plt.legend()"
      ],
      "execution_count": 37,
      "outputs": [
        {
          "output_type": "execute_result",
          "data": {
            "text/plain": [
              "<matplotlib.legend.Legend at 0x7f26d7280ef0>"
            ]
          },
          "metadata": {
            "tags": []
          },
          "execution_count": 37
        },
        {
          "output_type": "display_data",
          "data": {
            "image/png": "[encoded data removed]",
            "text/plain": [
              "<Figure size 432x288 with 1 Axes>"
            ]
          },
          "metadata": {
            "tags": [],
            "needs_background": "light"
          }
        }
      ]
    },
    {
      "cell_type": "code",
      "metadata": {
        "id": "xEMASbm-7HXG",
        "outputId": "1e54104e-901d-4edc-bc0d-19de039e2fa4",
        "colab": {
          "base_uri": "https://localhost:8080/",
          "height": 51
        }
      },
      "source": [
        "from datetime import date\n",
        "size = (2 , past  * 2)\n",
        "finalInput = np.zeros(size)\n",
        "temp = np.zeros(past * 2)\n",
        "temp[:past] = inputs[-past:]\n",
        "temp[past:] = outputs[-past:] \n",
        "finalInput[0] = temp\n",
        "finalInput[1] = temp\n",
        "\n",
        "futurePrediction = model.predict(finalInput)\n",
        "futurePrediction = futurePrediction[0]\n",
        "print(\"Prediction for tomorrow's national coronavirus deaths : \" + str(int(futurePrediction)))\n",
        "print(\"Today's date : \" + str(date.today()))\n"
      ],
      "execution_count": 38,
      "outputs": [
        {
          "output_type": "stream",
          "text": [
            "Prediction for tomorrow's national coronavirus deaths : 216470\n",
            "Today's date : 2020-10-14\n"
          ],
          "name": "stdout"
        }
      ]
    },
    {
      "cell_type": "code",
      "metadata": {
        "id": "tIQTFt12-ylF",
        "outputId": "25fe4541-d5e8-4183-f61f-b7c4be19afd4",
        "colab": {
          "base_uri": "https://localhost:8080/",
          "height": 34
        }
      },
      "source": [
        "model.score(X_test, y_test)"
      ],
      "execution_count": 39,
      "outputs": [
        {
          "output_type": "execute_result",
          "data": {
            "text/plain": [
              "0.9989441299177934"
            ]
          },
          "metadata": {
            "tags": []
          },
          "execution_count": 39
        }
      ]
    }
  ]
}