{
  "nbformat": 4,
  "nbformat_minor": 0,
  "metadata": {
    "colab": {
      "name": "COVID19-CasesPredictor.ipynb",
      "provenance": [],
      "collapsed_sections": [],
      "include_colab_link": true
    },
    "kernelspec": {
      "name": "python3",
      "display_name": "Python 3"
    },
    "accelerator": "GPU"
  },
  "cells": [
    {
      "cell_type": "markdown",
      "metadata": {
        "id": "view-in-github",
        "colab_type": "text"
      },
      "source": [
        "<a href=\"https://colab.research.google.com/github/anaiy2004/COVID-19-Forecasting/blob/main/COVID19_CasesPredictor.ipynb\" target=\"_parent\"><img src=\"https://colab.research.google.com/assets/colab-badge.svg\" alt=\"Open In Colab\"/></a>"
      ]
    },
    {
      "cell_type": "code",
      "metadata": {
        "id": "YueyapyFs50k"
      },
      "source": [
        "import csv\n",
        "import keras\n",
        "import pandas\n",
        "from keras.models import Model\n",
        "from keras.layers import Dense, Dropout, LSTM, Input, Activation, concatenate, BatchNormalization, Conv1D, Conv2D, Flatten, MaxPooling1D\n",
        "from keras import optimizers\n",
        "import numpy as np\n",
        "import tensorflow as tf\n",
        "import math\n",
        "from keras.callbacks import EarlyStopping, ModelCheckpoint\n",
        "\n",
        "url = 'https://raw.githubusercontent.com/nytimes/covid-19-data/master/us.csv'\n",
        "df = pandas.read_csv(url)\n",
        "inputs = df['cases'].to_numpy()             \n",
        "outputs = df['deaths'].to_numpy()\n",
        "df.tail(5)\n",
        "days = []\n",
        "count = 0\n",
        "for elements in inputs:\n",
        "  count += 1\n",
        "  days.append(count)\n",
        "df['days'] = days"
      ],
      "execution_count": 21,
      "outputs": []
    },
    {
      "cell_type": "code",
      "metadata": {
        "id": "ryTSOPgmsWef"
      },
      "source": [
        "past = 7\n",
        "s = (len(inputs) , past  * 2)\n",
        "betterinputs = np.zeros(s)\n",
        "betteroutputs = np.zeros(len(inputs))\n",
        "\n",
        "for i in range(len(inputs) - past): # - 0\n",
        "  temp = np.zeros(past * 2)\n",
        "  temp[0 : past] = inputs[i : i+ past]\n",
        "  temp[past:] = outputs[i : i + past] \n",
        "  betterinputs[i] = temp\n",
        "  betteroutputs[i] = inputs[i+past] # + 0"
      ],
      "execution_count": 22,
      "outputs": []
    },
    {
      "cell_type": "code",
      "metadata": {
        "id": "B9AeJU4_-8E-"
      },
      "source": [
        "betterinputs = betterinputs[0:len(df) - past] # - 0\n",
        "betteroutputs = betteroutputs[0:len(df) - past]\n",
        "days = days[0:len(df) - past]"
      ],
      "execution_count": 23,
      "outputs": []
    },
    {
      "cell_type": "code",
      "metadata": {
        "id": "QwP8D9gOFx5A"
      },
      "source": [
        "from matplotlib import pyplot as plt\n",
        "split = int(0.8*len(betterinputs))\n",
        "X_train, X_test, y_train, y_test = betterinputs[:split], betterinputs[split:], betteroutputs[:split], betteroutputs[split:]\n",
        "X_train = np.expand_dims(X_train, axis=2)  \n",
        "X_test = np.expand_dims(X_test, axis=2) \n",
        "days = days[split:]"
      ],
      "execution_count": 24,
      "outputs": []
    },
    {
      "cell_type": "code",
      "metadata": {
        "id": "D0IHXaR5ztr8",
        "outputId": "0ce3bd53-03c1-4828-d4ae-b82224a14029",
        "colab": {
          "base_uri": "https://localhost:8080/",
          "height": 329
        }
      },
      "source": [
        "from sklearn.linear_model import RidgeCV\n",
        "from sklearn.model_selection import cross_val_score\n",
        "from sklearn.linear_model import LinearRegression\n",
        "from sklearn import svm\n",
        "from sklearn.ensemble import GradientBoostingRegressor\n",
        "model = RidgeCV(cv = 2)\n",
        "X_train, X_test, y_train, y_test = betterinputs[:split], betterinputs[split:], betteroutputs[:split], betteroutputs[split:]\n",
        "model.fit(X_train, y_train)\n",
        "print(\"{}\".format(np.linalg.norm(model.predict(X_test) - y_test, 1)/len(y_test)))\n",
        "predict = model.predict(X_test)\n",
        "plt.title(\"Model Predictions vs Real Values for Deaths Predictions\")\n",
        "plt.ticklabel_format(style='plain')\n",
        "plt.plot( days, predict, label = \"model predicitons\")\n",
        "plt.plot( days, y_test,  label = \"real values\")\n",
        "plt.xlabel(\"Days after First United States Coronavirus Case\")\n",
        "plt.ylabel(\"National Coronavirus Cases\")\n",
        "plt.legend()\n",
        "cross_val_score(model, X_train, y_train, cv = 2)\n"
      ],
      "execution_count": 25,
      "outputs": [
        {
          "output_type": "stream",
          "text": [
            "7313.953725263262\n"
          ],
          "name": "stdout"
        },
        {
          "output_type": "execute_result",
          "data": {
            "text/plain": [
              "array([0.99979088, 0.99921467])"
            ]
          },
          "metadata": {
            "tags": []
          },
          "execution_count": 25
        },
        {
          "output_type": "display_data",
          "data": {
            "image/png": "[encoded data removed]",
            "text/plain": [
              "<Figure size 432x288 with 1 Axes>"
            ]
          },
          "metadata": {
            "tags": [],
            "needs_background": "light"
          }
        }
      ]
    },
    {
      "cell_type": "code",
      "metadata": {
        "id": "PT8sfsgcZAh3",
        "outputId": "cf09de60-72ba-4778-b543-dae423245b00",
        "colab": {
          "base_uri": "https://localhost:8080/",
          "height": 34
        }
      },
      "source": [
        "model.score(X_test, y_test)"
      ],
      "execution_count": 26,
      "outputs": [
        {
          "output_type": "execute_result",
          "data": {
            "text/plain": [
              "0.9998105327245571"
            ]
          },
          "metadata": {
            "tags": []
          },
          "execution_count": 26
        }
      ]
    }
  ]
}